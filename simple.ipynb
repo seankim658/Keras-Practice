{
 "cells": [
  {
   "cell_type": "code",
   "execution_count": null,
   "metadata": {},
   "outputs": [],
   "source": [
    "# imports \n",
    "import numpy as np\n",
    "import pandas as pd\n",
    "from random import randint\n",
    "from sklearn.utils import shuffle \n",
    "from sklearn.preprocessing import MinMaxScaler"
   ]
  },
  {
   "cell_type": "markdown",
   "metadata": {},
   "source": [
    "Creating a simple dataset:  \n",
    "* An experiemental drug was tested on individuals ages 10 to 90 in a clinical trial.\n",
    "* The trial had 5,000 patients. Half were younger than 65, and half were 65 years or older. \n",
    "* Around 95% of patients 65 or older had side effects.\n",
    "* Around 95% of patients under 65 had no side effects.  "
   ]
  },
  {
   "cell_type": "code",
   "execution_count": null,
   "metadata": {},
   "outputs": [],
   "source": [
    "# creating the dummy dataset \n",
    "train_samples = []\n",
    "train_lables = []\n",
    "\n",
    "# create \n",
    "for i in range(250):\n",
    "    # creates the ~5% of younger patients who experienced side effects \n",
    "    train_samples.append(randint(10, 64))\n",
    "    train_lables.append(1)\n",
    "\n",
    "    # creates the ~5% of older patients who did not experience side effects \n",
    "    train_samples.append(randint(65, 90))\n",
    "    train_lables.append(0)\n",
    "\n",
    "for i in range(4500):\n",
    "    # creates the ~95% of younger patients who did not experience side effects\n",
    "    train_samples.append(randint(10, 65))\n",
    "    train_lables.append(0)\n",
    "\n",
    "    # creates the ~95% of older patients who did experienced side effects \n",
    "    train_samples.append(randint(65, 90))\n",
    "    train_samples.append(1)"
   ]
  }
 ],
 "metadata": {
  "interpreter": {
   "hash": "ceef1a46cfa3b06e9010394384246b59e3f265d9615fd587d71bdb8901dad775"
  },
  "kernelspec": {
   "display_name": "Python 3.10.4 64-bit",
   "language": "python",
   "name": "python3"
  },
  "language_info": {
   "name": "python",
   "version": "3.10.4"
  },
  "orig_nbformat": 4
 },
 "nbformat": 4,
 "nbformat_minor": 2
}
